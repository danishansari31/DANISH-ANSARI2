{
 "cells": [
  {
   "cell_type": "markdown",
   "id": "06e36a77-467c-4ea4-bc7e-0fb556954bdb",
   "metadata": {},
   "source": [
    "# Strings Assignment"
   ]
  },
  {
   "cell_type": "markdown",
   "id": "2c0712f2-3174-44e2-ad4f-c0351af33d0a",
   "metadata": {},
   "source": [
    "#### 1 .  Write a program that accepts a string from user. Your program should count and display number of vowels in that string. "
   ]
  },
  {
   "cell_type": "code",
   "execution_count": 11,
   "id": "4e83383b-b9eb-4718-9a8d-2edfc4fc2f41",
   "metadata": {},
   "outputs": [
    {
     "name": "stdin",
     "output_type": "stream",
     "text": [
      "Enter a string: DANISH\n"
     ]
    },
    {
     "name": "stdout",
     "output_type": "stream",
     "text": [
      "Number of vowels in the string: 2\n"
     ]
    }
   ],
   "source": [
    "# Write your code here\n",
    "text = input(\"Enter a string:\")\n",
    "vowels = \"aeiouAEIOU\"\n",
    "count = 0\n",
    "for i in text:\n",
    "    if i in vowels:\n",
    "        count += 1\n",
    "print(\"Number of vowels in the string:\", count)"
   ]
  },
  {
   "cell_type": "markdown",
   "id": "728aa652-7870-4b09-8631-51825b2ef246",
   "metadata": {},
   "source": [
    "#### 2. Write a program that reads a string from keyboard and display: \n",
    "* The number of uppercase letters in the string \n",
    "* The number of lowercase letters in the string \n",
    "* The number of digits in the string \n",
    "* The number of whitespace characters in the string  "
   ]
  },
  {
   "cell_type": "code",
   "execution_count": 10,
   "id": "32556ca2-7790-4807-b3ea-5632f284dac4",
   "metadata": {},
   "outputs": [
    {
     "name": "stdin",
     "output_type": "stream",
     "text": [
      "Enter a string:  danishansari_  mp40\n"
     ]
    },
    {
     "name": "stdout",
     "output_type": "stream",
     "text": [
      "Number of uppercase letters: 0\n",
      "Number of lowercase letters: 14\n",
      "Number of digits: 2\n",
      "Number of whitespace characters: 2\n"
     ]
    }
   ],
   "source": [
    "# Write your code here\n",
    "user_input = input(\"Enter a string: \")\n",
    "\n",
    "uppercase_count = 0\n",
    "lowercase_count = 0\n",
    "digit_count = 0\n",
    "whitespace_count = 0\n",
    "\n",
    "for char in user_input:\n",
    "    if char.isupper():\n",
    "        uppercase_count += 1\n",
    "    elif char.islower():\n",
    "        lowercase_count += 1\n",
    "    elif char.isdigit():\n",
    "        digit_count += 1\n",
    "    elif char.isspace():\n",
    "        whitespace_count += 1\n",
    "        \n",
    "print(\"Number of uppercase letters:\", uppercase_count)\n",
    "print(\"Number of lowercase letters:\", lowercase_count)\n",
    "print(\"Number of digits:\", digit_count)\n",
    "print(\"Number of whitespace characters:\", whitespace_count)"
   ]
  },
  {
   "cell_type": "markdown",
   "id": "7b75bce8-18b3-4889-a3e7-19fbd67a61a4",
   "metadata": {},
   "source": [
    "#### 3. Write a Python program that accepts a string from user. Your program should create and display a new string where the first and last characters have been exchanged. \n",
    "##### For example if the user enters the string 'HELLO' then new string would be 'OELLH' "
   ]
  },
  {
   "cell_type": "code",
   "execution_count": 6,
   "id": "ab7529af-be80-4457-a433-b0a034a8b59f",
   "metadata": {},
   "outputs": [
    {
     "name": "stdin",
     "output_type": "stream",
     "text": [
      "Enter a string:  danish\n"
     ]
    },
    {
     "name": "stdout",
     "output_type": "stream",
     "text": [
      "New string after swapping first and last characters: hanisd\n"
     ]
    }
   ],
   "source": [
    "# Write your code here\n",
    "user_input = input(\"Enter a string: \")\n",
    "\n",
    "if len(user_input) < 2:\n",
    "    new_string = user_input\n",
    "else:\n",
    "    new_string = user_input[-1] + user_input[1:-1] + user_input[0]\n",
    "\n",
    "print(\"New string after swapping first and last characters:\", new_string)\n"
   ]
  },
  {
   "cell_type": "markdown",
   "id": "1f79fbe1-ab73-49d5-b4e3-97cd0dc11dd8",
   "metadata": {},
   "source": [
    "#### 4. Write a Python program that accepts a string from user. Your program should create a new string in reverse of first string and display it. \n",
    "##### For example if the user enters the string 'EXAM' then new string would be 'MAXE'  "
   ]
  },
  {
   "cell_type": "code",
   "execution_count": 19,
   "id": "28e33af5-4790-48e1-9718-1b01320a6f46",
   "metadata": {},
   "outputs": [
    {
     "name": "stdin",
     "output_type": "stream",
     "text": [
      "Enter a string:  danish\n"
     ]
    },
    {
     "name": "stdout",
     "output_type": "stream",
     "text": [
      "Reversed string: hsinad\n"
     ]
    }
   ],
   "source": [
    "# Write your code here\n",
    "original_string = input(\"Enter a string: \")\n",
    "\n",
    "reversed_string = original_string[::-1]\n",
    "\n",
    "print(\"Reversed string:\", reversed_string)\n",
    "\n"
   ]
  },
  {
   "cell_type": "markdown",
   "id": "a68267c7-727c-48e0-a1f1-4e1a8c510872",
   "metadata": {},
   "source": [
    "#### 5. Write a Python program that accepts a string from user. Your program should create a new string by shifting one position to left. \n",
    "##### For example if the user enters the string 'examination 2021' then new string would be 'xamination 2021e'  "
   ]
  },
  {
   "cell_type": "code",
   "execution_count": 9,
   "id": "9dc33db7-211c-44ca-b896-bba77fee9b97",
   "metadata": {},
   "outputs": [
    {
     "name": "stdin",
     "output_type": "stream",
     "text": [
      "Enter a string:  nabeel\n"
     ]
    },
    {
     "name": "stdout",
     "output_type": "stream",
     "text": [
      "String after left shift: abeeln\n"
     ]
    }
   ],
   "source": [
    "# Write your code here\n",
    "user_input = input(\"Enter a string: \")\n",
    "\n",
    "if len(user_input) == 0:\n",
    "    new_string = user_input\n",
    "else:\n",
    "    new_string = user_input[1:] + user_input[0]\n",
    "\n",
    "print(\"String after left shift:\", new_string)"
   ]
  },
  {
   "cell_type": "markdown",
   "id": "6c01b7af-d9c9-4236-ad7e-aa6b88a5b403",
   "metadata": {},
   "source": [
    "#### 6. Write a program that asks the user to input his name and print its initials. Assuming that the user always types first name, middle name and last name and does not include any unnecessary spaces. \n",
    "##### For example, if the user enters Ajay Kumar Garg the program should display A. K. G.\n",
    "##### Note:Don't use split() method  "
   ]
  },
  {
   "cell_type": "code",
   "execution_count": 20,
   "id": "37ed6709-3bf4-4cec-9924-616b95ac980d",
   "metadata": {},
   "outputs": [
    {
     "name": "stdin",
     "output_type": "stream",
     "text": [
      "Enter your full name (first, middle, last):  danish ansari\n"
     ]
    },
    {
     "name": "stdout",
     "output_type": "stream",
     "text": [
      "Initials: D. A. "
     ]
    }
   ],
   "source": [
    "# Write your code here\n",
    "name = input(\"Enter your full name (first, middle, last): \")\n",
    "\n",
    "print(\"Initials: \", end=\"\")\n",
    "\n",
    "print(name[0].upper() + \". \", end=\"\")\n",
    "\n",
    "for i in range(len(name)):\n",
    "    if name[i] == \" \":         \n",
    "        print(name[i+1].upper() + \". \", end=\"\")\n"
   ]
  },
  {
   "cell_type": "markdown",
   "id": "6c8cf88f-61e7-48d7-b81e-d0cd62dc8b84",
   "metadata": {},
   "source": [
    "#### 7. A palindrome is a string that reads the same backward as forward. For example, the words dad, madam and radar are all palindromes. Write a programs that determines whether the string is a palindrome. \n",
    "##### Note: do not use reverse() method  "
   ]
  },
  {
   "cell_type": "code",
   "execution_count": 27,
   "id": "7f138cb8-9647-43df-9adf-7890962139d0",
   "metadata": {},
   "outputs": [
    {
     "name": "stdin",
     "output_type": "stream",
     "text": [
      "Enter a string:  dad\n"
     ]
    },
    {
     "name": "stdout",
     "output_type": "stream",
     "text": [
      "The string is a palindrome.\n"
     ]
    }
   ],
   "source": [
    "# Write your code here\n",
    "input_string = input(\"Enter a string: \")\n",
    "input_string = input_string.lower()\n",
    "input_string = input_string.replace(\" \", \"\")\n",
    "is_palindrome = True\n",
    "\n",
    "for i in range(len(input_string) // 2):\n",
    "    if input_string[i] != input_string[-(i + 1)]:\n",
    "        \n",
    "        is_palindrome = False\n",
    "        break\n",
    "\n",
    "if is_palindrome:\n",
    "    print(\"The string is a palindrome.\")\n",
    "else:\n",
    "    print(\"The string is not a palindrome.\")\n"
   ]
  },
  {
   "cell_type": "markdown",
   "id": "f2e83626-d5cc-496a-b175-d9e3b72e4092",
   "metadata": {},
   "source": [
    "#### 8. Write a program that display following output: \n",
    "- SHIFT \n",
    "- HIFTS \n",
    "- IFTSH \n",
    "- FTSHI \n",
    "- TSHIF \n",
    "- SHIFT "
   ]
  },
  {
   "cell_type": "code",
   "execution_count": 29,
   "id": "a16f7082-0cb9-4de4-b01c-d47c0d2fa9ee",
   "metadata": {},
   "outputs": [
    {
     "name": "stdout",
     "output_type": "stream",
     "text": [
      "SHIFT\n",
      "HIFTS\n",
      "IFTSH\n",
      "FTSHI\n",
      "TSHIF\n",
      "SHIFT\n"
     ]
    }
   ],
   "source": [
    "# Write your code here\n",
    "word = \"SHIFT\"\n",
    "print(word)\n",
    "\n",
    "for i in range(1, len(word)):\n",
    "    rotated = word[i:] + word[:i]\n",
    "    print(rotated)\n",
    "\n",
    "print(word)\n"
   ]
  },
  {
   "cell_type": "code",
   "execution_count": null,
   "id": "32a12e92-6466-43dc-9f1f-9d55b02f7ec4",
   "metadata": {},
   "outputs": [],
   "source": []
  }
 ],
 "metadata": {
  "kernelspec": {
   "display_name": "Python 3 (ipykernel)",
   "language": "python",
   "name": "python3"
  },
  "language_info": {
   "codemirror_mode": {
    "name": "ipython",
    "version": 3
   },
   "file_extension": ".py",
   "mimetype": "text/x-python",
   "name": "python",
   "nbconvert_exporter": "python",
   "pygments_lexer": "ipython3",
   "version": "3.13.5"
  }
 },
 "nbformat": 4,
 "nbformat_minor": 5
}
